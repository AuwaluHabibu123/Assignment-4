{
 "cells": [
  {
   "cell_type": "code",
   "execution_count": 1,
   "id": "a833723f",
   "metadata": {},
   "outputs": [],
   "source": [
    "import pandas as pd\n",
    "import numpy as np"
   ]
  },
  {
   "cell_type": "code",
   "execution_count": 2,
   "id": "4c741817",
   "metadata": {},
   "outputs": [],
   "source": [
    "data = pd.read_csv(\"cost_revenue.csv\")"
   ]
  },
  {
   "cell_type": "code",
   "execution_count": 3,
   "id": "0413b3eb",
   "metadata": {},
   "outputs": [
    {
     "data": {
      "text/html": [
       "<div>\n",
       "<style scoped>\n",
       "    .dataframe tbody tr th:only-of-type {\n",
       "        vertical-align: middle;\n",
       "    }\n",
       "\n",
       "    .dataframe tbody tr th {\n",
       "        vertical-align: top;\n",
       "    }\n",
       "\n",
       "    .dataframe thead th {\n",
       "        text-align: right;\n",
       "    }\n",
       "</style>\n",
       "<table border=\"1\" class=\"dataframe\">\n",
       "  <thead>\n",
       "    <tr style=\"text-align: right;\">\n",
       "      <th></th>\n",
       "      <th>production_budget_usd</th>\n",
       "      <th>worldwide_gross_usd</th>\n",
       "    </tr>\n",
       "  </thead>\n",
       "  <tbody>\n",
       "    <tr>\n",
       "      <th>0</th>\n",
       "      <td>1000000</td>\n",
       "      <td>26</td>\n",
       "    </tr>\n",
       "    <tr>\n",
       "      <th>1</th>\n",
       "      <td>10000</td>\n",
       "      <td>401</td>\n",
       "    </tr>\n",
       "    <tr>\n",
       "      <th>2</th>\n",
       "      <td>400000</td>\n",
       "      <td>423</td>\n",
       "    </tr>\n",
       "    <tr>\n",
       "      <th>3</th>\n",
       "      <td>750000</td>\n",
       "      <td>450</td>\n",
       "    </tr>\n",
       "    <tr>\n",
       "      <th>4</th>\n",
       "      <td>10000</td>\n",
       "      <td>527</td>\n",
       "    </tr>\n",
       "  </tbody>\n",
       "</table>\n",
       "</div>"
      ],
      "text/plain": [
       "   production_budget_usd  worldwide_gross_usd\n",
       "0                1000000                   26\n",
       "1                  10000                  401\n",
       "2                 400000                  423\n",
       "3                 750000                  450\n",
       "4                  10000                  527"
      ]
     },
     "execution_count": 3,
     "metadata": {},
     "output_type": "execute_result"
    }
   ],
   "source": [
    "data.head(5)"
   ]
  },
  {
   "cell_type": "code",
   "execution_count": 4,
   "id": "dd9b232d",
   "metadata": {},
   "outputs": [
    {
     "data": {
      "text/plain": [
       "(5034, 2)"
      ]
     },
     "execution_count": 4,
     "metadata": {},
     "output_type": "execute_result"
    }
   ],
   "source": [
    "data.shape"
   ]
  },
  {
   "cell_type": "code",
   "execution_count": 6,
   "id": "30f7c7b5",
   "metadata": {},
   "outputs": [
    {
     "data": {
      "text/plain": [
       "production_budget_usd    int64\n",
       "worldwide_gross_usd      int64\n",
       "dtype: object"
      ]
     },
     "execution_count": 6,
     "metadata": {},
     "output_type": "execute_result"
    }
   ],
   "source": [
    "data.dtypes"
   ]
  },
  {
   "cell_type": "code",
   "execution_count": 8,
   "id": "80235895",
   "metadata": {},
   "outputs": [
    {
     "data": {
      "text/html": [
       "<div>\n",
       "<style scoped>\n",
       "    .dataframe tbody tr th:only-of-type {\n",
       "        vertical-align: middle;\n",
       "    }\n",
       "\n",
       "    .dataframe tbody tr th {\n",
       "        vertical-align: top;\n",
       "    }\n",
       "\n",
       "    .dataframe thead th {\n",
       "        text-align: right;\n",
       "    }\n",
       "</style>\n",
       "<table border=\"1\" class=\"dataframe\">\n",
       "  <thead>\n",
       "    <tr style=\"text-align: right;\">\n",
       "      <th></th>\n",
       "      <th>production_budget_usd</th>\n",
       "      <th>worldwide_gross_usd</th>\n",
       "    </tr>\n",
       "  </thead>\n",
       "  <tbody>\n",
       "    <tr>\n",
       "      <th>5033</th>\n",
       "      <td>425000000</td>\n",
       "      <td>2783918982</td>\n",
       "    </tr>\n",
       "    <tr>\n",
       "      <th>5032</th>\n",
       "      <td>200000000</td>\n",
       "      <td>2207615668</td>\n",
       "    </tr>\n",
       "    <tr>\n",
       "      <th>5031</th>\n",
       "      <td>306000000</td>\n",
       "      <td>2058662225</td>\n",
       "    </tr>\n",
       "    <tr>\n",
       "      <th>5030</th>\n",
       "      <td>215000000</td>\n",
       "      <td>1671640593</td>\n",
       "    </tr>\n",
       "    <tr>\n",
       "      <th>5029</th>\n",
       "      <td>225000000</td>\n",
       "      <td>1519479547</td>\n",
       "    </tr>\n",
       "  </tbody>\n",
       "</table>\n",
       "</div>"
      ],
      "text/plain": [
       "      production_budget_usd  worldwide_gross_usd\n",
       "5033              425000000           2783918982\n",
       "5032              200000000           2207615668\n",
       "5031              306000000           2058662225\n",
       "5030              215000000           1671640593\n",
       "5029              225000000           1519479547"
      ]
     },
     "execution_count": 8,
     "metadata": {},
     "output_type": "execute_result"
    }
   ],
   "source": [
    "data.sort_values(by=\"worldwide_gross_usd\", ascending=False).head(5)"
   ]
  },
  {
   "cell_type": "code",
   "execution_count": 51,
   "id": "b62f235d",
   "metadata": {},
   "outputs": [],
   "source": []
  },
  {
   "cell_type": "code",
   "execution_count": 67,
   "id": "39b2f6b1",
   "metadata": {},
   "outputs": [],
   "source": [
    "x_1 = data[\"worldwide_gross_usd\"]\n",
    "x_2 = data[\"production_budget_usd\"]\n",
    "def diff_val(x_1,x_2):\n",
    "    if x_1 >= x_2:\n",
    "        print(\"there is loss\")\n",
    "    else:\n",
    "        print(\"profit was made\")"
   ]
  },
  {
   "cell_type": "code",
   "execution_count": 69,
   "id": "35c8b196",
   "metadata": {},
   "outputs": [
    {
     "name": "stdout",
     "output_type": "stream",
     "text": [
      "profit was made\n"
     ]
    }
   ],
   "source": [
    "diff_val(225000000,1519479547)"
   ]
  },
  {
   "cell_type": "code",
   "execution_count": 55,
   "id": "9c537282",
   "metadata": {},
   "outputs": [],
   "source": [
    "data[\"production_cost_diff\"] = data[\"production_budget_usd\"]**2"
   ]
  },
  {
   "cell_type": "code",
   "execution_count": 36,
   "id": "db38dccd",
   "metadata": {},
   "outputs": [
    {
     "name": "stdout",
     "output_type": "stream",
     "text": [
      "      production_budget_usd  worldwide_gross_usd  production_cost_diff\n",
      "0                   1000000                   26         1000000000000\n",
      "1                     10000                  401             100000000\n",
      "2                    400000                  423          160000000000\n",
      "3                    750000                  450          562500000000\n",
      "4                     10000                  527             100000000\n",
      "...                     ...                  ...                   ...\n",
      "5029              225000000           1519479547     50625000000000000\n",
      "5030              215000000           1671640593     46225000000000000\n",
      "5031              306000000           2058662225     93636000000000000\n",
      "5032              200000000           2207615668     40000000000000000\n",
      "5033              425000000           2783918982    180625000000000000\n",
      "\n",
      "[5034 rows x 3 columns]\n"
     ]
    }
   ],
   "source": [
    "print(data)"
   ]
  },
  {
   "cell_type": "code",
   "execution_count": 47,
   "id": "c382fc78",
   "metadata": {},
   "outputs": [],
   "source": [
    "def get_milk():\n",
    "    print('This si the column of the production budget in usd')\n",
    "    print(data[\"production_budget_usd\"])"
   ]
  },
  {
   "cell_type": "code",
   "execution_count": 48,
   "id": "af06e673",
   "metadata": {},
   "outputs": [
    {
     "name": "stdout",
     "output_type": "stream",
     "text": [
      "This si the column of the production budget in usd\n",
      "0         1000000\n",
      "1           10000\n",
      "2          400000\n",
      "3          750000\n",
      "4           10000\n",
      "          ...    \n",
      "5029    225000000\n",
      "5030    215000000\n",
      "5031    306000000\n",
      "5032    200000000\n",
      "5033    425000000\n",
      "Name: production_budget_usd, Length: 5034, dtype: int64\n"
     ]
    }
   ],
   "source": [
    "get_milk()"
   ]
  },
  {
   "cell_type": "code",
   "execution_count": null,
   "id": "d0e37366",
   "metadata": {},
   "outputs": [],
   "source": []
  },
  {
   "cell_type": "code",
   "execution_count": null,
   "id": "f4ba5b15",
   "metadata": {},
   "outputs": [],
   "source": []
  }
 ],
 "metadata": {
  "kernelspec": {
   "display_name": "Python 3 (ipykernel)",
   "language": "python",
   "name": "python3"
  },
  "language_info": {
   "codemirror_mode": {
    "name": "ipython",
    "version": 3
   },
   "file_extension": ".py",
   "mimetype": "text/x-python",
   "name": "python",
   "nbconvert_exporter": "python",
   "pygments_lexer": "ipython3",
   "version": "3.9.13"
  }
 },
 "nbformat": 4,
 "nbformat_minor": 5
}
